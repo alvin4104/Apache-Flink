{
 "cells": [
  {
   "cell_type": "code",
   "execution_count": 1,
   "id": "4c29f98a-4ecf-4f62-897d-de61541b2918",
   "metadata": {},
   "outputs": [],
   "source": [
    "from pyspark.sql import SparkSession"
   ]
  },
  {
   "cell_type": "code",
   "execution_count": 7,
   "id": "b1e0fa29-1b67-42ef-bf6f-81bb3bfb17a7",
   "metadata": {},
   "outputs": [
    {
     "name": "stderr",
     "output_type": "stream",
     "text": [
      "Warning: Ignoring non-Spark config property: \u0000\u0000\u0000\u0000\u0000\u0000\u0000\u0000\u0000\u0000\u0000\u0000\u0000\u0000\u0000\u0000\u0000\u0000\u0000\u0000\u0000\u0000\u0000\u0000\u0000\u0000\u0000\u0000\u0000\u0000\u0000\u0000\u0000\u0000\u0000\u0000\u0000\u0000\u0000\u0000\u0000\u0000\u0000\u0000\u0000\u0000\u0000\u0000\u0000\u0000\u0000\u0000\u0000\u0000\u0000\u0000\u0000spark.ui.port\n",
      "Setting default log level to \"WARN\".\n",
      "To adjust logging level use sc.setLogLevel(newLevel). For SparkR, use setLogLevel(newLevel).\n",
      "25/01/01 15:12:56 WARN Utils: Service 'SparkUI' could not bind on port 4041. Attempting port 4042.\n"
     ]
    }
   ],
   "source": [
    "spark = SparkSession.builder \\\n",
    "    .appName(\"ShopSphereAnalysis\") \\\n",
    "    .config(\"spark.hadoop.fs.defaultFS\", \"hdfs://localhost:9000\") \\\n",
    "    .config(\"spark.master\", \"local[*]\") \\\n",
    "    .getOrCreate()"
   ]
  },
  {
   "cell_type": "code",
   "execution_count": 9,
   "id": "fc516c7e-6c2e-4d63-a039-dc12713abf0b",
   "metadata": {},
   "outputs": [],
   "source": [
    "data = spark.read.text (\"hdfs://localhost:9000/user/alvin/ShopSphere/output/\")"
   ]
  },
  {
   "cell_type": "code",
   "execution_count": 10,
   "id": "5379d48c-58e4-4cc2-a2e3-bc10fefb3867",
   "metadata": {},
   "outputs": [
    {
     "name": "stderr",
     "output_type": "stream",
     "text": [
      "                                                                                "
     ]
    },
    {
     "name": "stdout",
     "output_type": "stream",
     "text": [
      "+--------------------+\n",
      "|               value|\n",
      "+--------------------+\n",
      "|(10010,U132,P465,...|\n",
      "|(10013,U135,P468,...|\n",
      "|(10017,U139,P472,...|\n",
      "|(10019,U141,P474,...|\n",
      "|(10022,U144,P477,...|\n",
      "|(10025,U147,P480,...|\n",
      "|(10034,U156,P489,...|\n",
      "|(10044,U166,P499,...|\n",
      "|(10045,U167,P500,...|\n",
      "|(10046,U168,P501,...|\n",
      "|(10047,U169,P502,...|\n",
      "|(10051,U173,P506,...|\n",
      "|(10067,U189,P522,...|\n",
      "|(10070,U192,P525,...|\n",
      "|(10073,U195,P528,...|\n",
      "|(10079,U201,P534,...|\n",
      "|(10085,U207,P540,...|\n",
      "|(10086,U208,P541,...|\n",
      "|(10087,U209,P542,...|\n",
      "|(10093,U215,P548,...|\n",
      "+--------------------+\n",
      "only showing top 20 rows\n",
      "\n"
     ]
    }
   ],
   "source": [
    "data.show()"
   ]
  },
  {
   "cell_type": "code",
   "execution_count": null,
   "id": "b6a1bf48-ae2c-409d-8f4c-d3e8c7c67a15",
   "metadata": {},
   "outputs": [],
   "source": []
  }
 ],
 "metadata": {
  "kernelspec": {
   "display_name": "Python (PySpark)",
   "language": "python",
   "name": "pyspark_env"
  },
  "language_info": {
   "codemirror_mode": {
    "name": "ipython",
    "version": 3
   },
   "file_extension": ".py",
   "mimetype": "text/x-python",
   "name": "python",
   "nbconvert_exporter": "python",
   "pygments_lexer": "ipython3",
   "version": "3.12.3"
  }
 },
 "nbformat": 4,
 "nbformat_minor": 5
}
